{
  "nbformat": 4,
  "nbformat_minor": 0,
  "metadata": {
    "colab": {
      "provenance": [],
      "gpuType": "T4",
      "mount_file_id": "1B2S2C3MoELzd2QhxtdKDlkiOLrHl5JKR",
      "authorship_tag": "ABX9TyOeRkaopGWBJhBRw/llw1zy",
      "include_colab_link": true
    },
    "kernelspec": {
      "name": "python3",
      "display_name": "Python 3"
    },
    "language_info": {
      "name": "python"
    },
    "accelerator": "GPU"
  },
  "cells": [
    {
      "cell_type": "markdown",
      "metadata": {
        "id": "view-in-github",
        "colab_type": "text"
      },
      "source": [
        "<a href=\"https://colab.research.google.com/github/95/combatSystem/blob/main/carclass1.ipynb\" target=\"_parent\"><img src=\"https://colab.research.google.com/assets/colab-badge.svg\" alt=\"Open In Colab\"/></a>"
      ]
    },
    {
      "cell_type": "code",
      "execution_count": 20,
      "metadata": {
        "colab": {
          "base_uri": "https://localhost:8080/"
        },
        "id": "-DOWs5Xt7inW",
        "outputId": "47dd0a57-dd58-4e5b-bdfd-c6a1a3986485"
      },
      "outputs": [
        {
          "output_type": "stream",
          "name": "stdout",
          "text": [
            "Requirement already satisfied: tensorflow in /usr/local/lib/python3.10/dist-packages (2.13.0)\n",
            "Requirement already satisfied: matplotlib in /usr/local/lib/python3.10/dist-packages (3.7.1)\n",
            "Requirement already satisfied: absl-py>=1.0.0 in /usr/local/lib/python3.10/dist-packages (from tensorflow) (1.4.0)\n",
            "Requirement already satisfied: astunparse>=1.6.0 in /usr/local/lib/python3.10/dist-packages (from tensorflow) (1.6.3)\n",
            "Requirement already satisfied: flatbuffers>=23.1.21 in /usr/local/lib/python3.10/dist-packages (from tensorflow) (23.5.26)\n",
            "Requirement already satisfied: gast<=0.4.0,>=0.2.1 in /usr/local/lib/python3.10/dist-packages (from tensorflow) (0.4.0)\n",
            "Requirement already satisfied: google-pasta>=0.1.1 in /usr/local/lib/python3.10/dist-packages (from tensorflow) (0.2.0)\n",
            "Requirement already satisfied: grpcio<2.0,>=1.24.3 in /usr/local/lib/python3.10/dist-packages (from tensorflow) (1.57.0)\n",
            "Requirement already satisfied: h5py>=2.9.0 in /usr/local/lib/python3.10/dist-packages (from tensorflow) (3.9.0)\n",
            "Requirement already satisfied: keras<2.14,>=2.13.1 in /usr/local/lib/python3.10/dist-packages (from tensorflow) (2.13.1)\n",
            "Requirement already satisfied: libclang>=13.0.0 in /usr/local/lib/python3.10/dist-packages (from tensorflow) (16.0.6)\n",
            "Requirement already satisfied: numpy<=1.24.3,>=1.22 in /usr/local/lib/python3.10/dist-packages (from tensorflow) (1.23.5)\n",
            "Requirement already satisfied: opt-einsum>=2.3.2 in /usr/local/lib/python3.10/dist-packages (from tensorflow) (3.3.0)\n",
            "Requirement already satisfied: packaging in /usr/local/lib/python3.10/dist-packages (from tensorflow) (23.1)\n",
            "Requirement already satisfied: protobuf!=4.21.0,!=4.21.1,!=4.21.2,!=4.21.3,!=4.21.4,!=4.21.5,<5.0.0dev,>=3.20.3 in /usr/local/lib/python3.10/dist-packages (from tensorflow) (3.20.3)\n",
            "Requirement already satisfied: setuptools in /usr/local/lib/python3.10/dist-packages (from tensorflow) (67.7.2)\n",
            "Requirement already satisfied: six>=1.12.0 in /usr/local/lib/python3.10/dist-packages (from tensorflow) (1.16.0)\n",
            "Requirement already satisfied: tensorboard<2.14,>=2.13 in /usr/local/lib/python3.10/dist-packages (from tensorflow) (2.13.0)\n",
            "Requirement already satisfied: tensorflow-estimator<2.14,>=2.13.0 in /usr/local/lib/python3.10/dist-packages (from tensorflow) (2.13.0)\n",
            "Requirement already satisfied: termcolor>=1.1.0 in /usr/local/lib/python3.10/dist-packages (from tensorflow) (2.3.0)\n",
            "Requirement already satisfied: typing-extensions<4.6.0,>=3.6.6 in /usr/local/lib/python3.10/dist-packages (from tensorflow) (4.5.0)\n",
            "Requirement already satisfied: wrapt>=1.11.0 in /usr/local/lib/python3.10/dist-packages (from tensorflow) (1.15.0)\n",
            "Requirement already satisfied: tensorflow-io-gcs-filesystem>=0.23.1 in /usr/local/lib/python3.10/dist-packages (from tensorflow) (0.33.0)\n",
            "Requirement already satisfied: contourpy>=1.0.1 in /usr/local/lib/python3.10/dist-packages (from matplotlib) (1.1.0)\n",
            "Requirement already satisfied: cycler>=0.10 in /usr/local/lib/python3.10/dist-packages (from matplotlib) (0.11.0)\n",
            "Requirement already satisfied: fonttools>=4.22.0 in /usr/local/lib/python3.10/dist-packages (from matplotlib) (4.42.1)\n",
            "Requirement already satisfied: kiwisolver>=1.0.1 in /usr/local/lib/python3.10/dist-packages (from matplotlib) (1.4.5)\n",
            "Requirement already satisfied: pillow>=6.2.0 in /usr/local/lib/python3.10/dist-packages (from matplotlib) (9.4.0)\n",
            "Requirement already satisfied: pyparsing>=2.3.1 in /usr/local/lib/python3.10/dist-packages (from matplotlib) (3.1.1)\n",
            "Requirement already satisfied: python-dateutil>=2.7 in /usr/local/lib/python3.10/dist-packages (from matplotlib) (2.8.2)\n",
            "Requirement already satisfied: wheel<1.0,>=0.23.0 in /usr/local/lib/python3.10/dist-packages (from astunparse>=1.6.0->tensorflow) (0.41.2)\n",
            "Requirement already satisfied: google-auth<3,>=1.6.3 in /usr/local/lib/python3.10/dist-packages (from tensorboard<2.14,>=2.13->tensorflow) (2.17.3)\n",
            "Requirement already satisfied: google-auth-oauthlib<1.1,>=0.5 in /usr/local/lib/python3.10/dist-packages (from tensorboard<2.14,>=2.13->tensorflow) (1.0.0)\n",
            "Requirement already satisfied: markdown>=2.6.8 in /usr/local/lib/python3.10/dist-packages (from tensorboard<2.14,>=2.13->tensorflow) (3.4.4)\n",
            "Requirement already satisfied: requests<3,>=2.21.0 in /usr/local/lib/python3.10/dist-packages (from tensorboard<2.14,>=2.13->tensorflow) (2.31.0)\n",
            "Requirement already satisfied: tensorboard-data-server<0.8.0,>=0.7.0 in /usr/local/lib/python3.10/dist-packages (from tensorboard<2.14,>=2.13->tensorflow) (0.7.1)\n",
            "Requirement already satisfied: werkzeug>=1.0.1 in /usr/local/lib/python3.10/dist-packages (from tensorboard<2.14,>=2.13->tensorflow) (2.3.7)\n",
            "Requirement already satisfied: cachetools<6.0,>=2.0.0 in /usr/local/lib/python3.10/dist-packages (from google-auth<3,>=1.6.3->tensorboard<2.14,>=2.13->tensorflow) (5.3.1)\n",
            "Requirement already satisfied: pyasn1-modules>=0.2.1 in /usr/local/lib/python3.10/dist-packages (from google-auth<3,>=1.6.3->tensorboard<2.14,>=2.13->tensorflow) (0.3.0)\n",
            "Requirement already satisfied: rsa<5,>=3.1.4 in /usr/local/lib/python3.10/dist-packages (from google-auth<3,>=1.6.3->tensorboard<2.14,>=2.13->tensorflow) (4.9)\n",
            "Requirement already satisfied: requests-oauthlib>=0.7.0 in /usr/local/lib/python3.10/dist-packages (from google-auth-oauthlib<1.1,>=0.5->tensorboard<2.14,>=2.13->tensorflow) (1.3.1)\n",
            "Requirement already satisfied: charset-normalizer<4,>=2 in /usr/local/lib/python3.10/dist-packages (from requests<3,>=2.21.0->tensorboard<2.14,>=2.13->tensorflow) (3.2.0)\n",
            "Requirement already satisfied: idna<4,>=2.5 in /usr/local/lib/python3.10/dist-packages (from requests<3,>=2.21.0->tensorboard<2.14,>=2.13->tensorflow) (3.4)\n",
            "Requirement already satisfied: urllib3<3,>=1.21.1 in /usr/local/lib/python3.10/dist-packages (from requests<3,>=2.21.0->tensorboard<2.14,>=2.13->tensorflow) (2.0.4)\n",
            "Requirement already satisfied: certifi>=2017.4.17 in /usr/local/lib/python3.10/dist-packages (from requests<3,>=2.21.0->tensorboard<2.14,>=2.13->tensorflow) (2023.7.22)\n",
            "Requirement already satisfied: MarkupSafe>=2.1.1 in /usr/local/lib/python3.10/dist-packages (from werkzeug>=1.0.1->tensorboard<2.14,>=2.13->tensorflow) (2.1.3)\n",
            "Requirement already satisfied: pyasn1<0.6.0,>=0.4.6 in /usr/local/lib/python3.10/dist-packages (from pyasn1-modules>=0.2.1->google-auth<3,>=1.6.3->tensorboard<2.14,>=2.13->tensorflow) (0.5.0)\n",
            "Requirement already satisfied: oauthlib>=3.0.0 in /usr/local/lib/python3.10/dist-packages (from requests-oauthlib>=0.7.0->google-auth-oauthlib<1.1,>=0.5->tensorboard<2.14,>=2.13->tensorflow) (3.2.2)\n"
          ]
        }
      ],
      "source": [
        "pip install tensorflow matplotlib\n"
      ]
    },
    {
      "cell_type": "code",
      "source": [
        "import zipfile\n",
        "from google.colab import drive\n",
        "\n",
        "drive.mount('/content/drive/')\n",
        "\n",
        "zip_ref = zipfile.ZipFile(\"/content/drive/My Drive/archive (8).zip\", 'r')\n",
        "zip_ref.extractall(\"/tmp\")\n",
        "zip_ref.close()"
      ],
      "metadata": {
        "colab": {
          "base_uri": "https://localhost:8080/"
        },
        "id": "vxtjgAP6QF-K",
        "outputId": "b112fab8-5ae0-4e7f-dbf4-b3412ba5d45d"
      },
      "execution_count": 11,
      "outputs": [
        {
          "output_type": "stream",
          "name": "stdout",
          "text": [
            "Drive already mounted at /content/drive/; to attempt to forcibly remount, call drive.mount(\"/content/drive/\", force_remount=True).\n"
          ]
        }
      ]
    },
    {
      "cell_type": "code",
      "source": [
        "# Importing necessary libraries\n",
        "import os\n",
        "import tensorflow as tf  # The core open-source library to help you develop and train ML models.\n",
        "from tensorflow.keras.preprocessing.image import ImageDataGenerator  # Image processing and augmentation\n",
        "import matplotlib.pyplot as plt  # For plotting graphs and visualizing results\n"
      ],
      "metadata": {
        "id": "6GY4V6JP7nKd"
      },
      "execution_count": 12,
      "outputs": []
    },
    {
      "cell_type": "code",
      "source": [
        "# Define the directory paths for the train, test, and validation datasets\n",
        "train_dir = '/tmp/train'\n",
        "val_dir = '/tmp/val'\n",
        "test_dir = '/tmp/test'\n"
      ],
      "metadata": {
        "id": "ldJUJhCy7sF9"
      },
      "execution_count": 13,
      "outputs": []
    },
    {
      "cell_type": "code",
      "source": [
        "# Define ImageDataGenerator instances for train, validation, and test datasets.\n",
        "# ImageDataGenerator is used for Data Augmentation (creating variations of the image to improve model generalization) and scaling.\n",
        "\n",
        "# For the training data, we apply various augmentation techniques to artificially increase the diversity of the dataset.\n",
        "train_datagen = ImageDataGenerator(\n",
        "    rescale=1./255,  # Normalize pixel values between 0 and 1.\n",
        "    rotation_range=20,  # Degree range for random rotations.\n",
        "    width_shift_range=0.2,  # Range for horizontal shift.\n",
        "    height_shift_range=0.2,  # Range for vertical shift.\n",
        "    shear_range=0.2,  # Shear Intensity.\n",
        "    zoom_range=0.2,  # Range for random zoom.\n",
        "    horizontal_flip=True,  # Randomly flip inputs horizontally.\n",
        "    fill_mode='nearest'  # Points outside the boundaries are filled according to the given mode.\n",
        ")\n",
        "\n",
        "# For validation and test data, we only rescale the pixel values. We do not need to augment this data.\n",
        "val_datagen = ImageDataGenerator(rescale=1./255)\n",
        "test_datagen = ImageDataGenerator(rescale=1./255)\n"
      ],
      "metadata": {
        "id": "0wq1TRJw9-z_"
      },
      "execution_count": 14,
      "outputs": []
    },
    {
      "cell_type": "code",
      "source": [
        "# Define the batch size, which represents the number of samples that will be propagated through the network.\n",
        "batch_size = 32\n",
        "\n",
        "# Setup generators to read images from the dataset directory and feed them to the neural network.\n",
        "# The generators will convert the images to float32 tensors, rescale the pixel values, and will yield batches of images and labels.\n",
        "train_generator = train_datagen.flow_from_directory(\n",
        "    train_dir,  # directory for training images\n",
        "    target_size=(150, 150),  # all images will be resized to 150x150\n",
        "    batch_size=batch_size,\n",
        "    class_mode='categorical'  # We have more than two classes so we use 'categorical'\n",
        ")\n",
        "\n",
        "val_generator = val_datagen.flow_from_directory(\n",
        "    val_dir,\n",
        "    target_size=(150, 150),\n",
        "    batch_size=batch_size,\n",
        "    class_mode='categorical'\n",
        ")\n",
        "\n",
        "test_generator = test_datagen.flow_from_directory(\n",
        "    test_dir,\n",
        "    target_size=(150, 150),\n",
        "    batch_size=batch_size,\n",
        "    class_mode='categorical'\n",
        ")\n"
      ],
      "metadata": {
        "colab": {
          "base_uri": "https://localhost:8080/"
        },
        "id": "vgCjxBXM-AxO",
        "outputId": "d6a73c5b-8343-4d1b-d3b4-c2bfc42ab372"
      },
      "execution_count": 15,
      "outputs": [
        {
          "output_type": "stream",
          "name": "stdout",
          "text": [
            "Found 7267 images belonging to 15 classes.\n",
            "Found 1550 images belonging to 15 classes.\n",
            "Found 1556 images belonging to 15 classes.\n"
          ]
        }
      ]
    },
    {
      "cell_type": "code",
      "source": [
        "# Define the model structure.\n",
        "model = tf.keras.models.Sequential([\n",
        "    # The first convolution layer will learn 32 filters. Each filter transforms a part of the image as defined by the kernel size (3, 3).\n",
        "    tf.keras.layers.Conv2D(32, (3,3), activation='relu', input_shape=(150, 150, 3)),\n",
        "    # After each conv layer, we add a max pooling layer to reduce the spatial dimensions of the output volume, which helps reduce computation.\n",
        "    tf.keras.layers.MaxPooling2D(2, 2),\n",
        "    # Adding more convolution layers to allow the network to learn more complex patterns.\n",
        "    tf.keras.layers.Conv2D(64, (3,3), activation='relu'),\n",
        "    tf.keras.layers.MaxPooling2D(2,2),\n",
        "    tf.keras.layers.Conv2D(128, (3,3), activation='relu'),\n",
        "    tf.keras.layers.MaxPooling2D(2,2),\n",
        "    # Flattening the 2D matrix data to a vector\n",
        "    tf.keras.layers.Flatten(),\n",
        "    # Adding dense layers for classification.\n",
        "    tf.keras.layers.Dense(512, activation='relu'),\n",
        "    # The output layer has 15 nodes (for 15 colors) and softmax activation to output probabilities.\n",
        "    tf.keras.layers.Dense(15, activation='softmax')\n",
        "])\n"
      ],
      "metadata": {
        "id": "UukWl-mP-DtF"
      },
      "execution_count": null,
      "outputs": []
    },
    {
      "cell_type": "code",
      "source": [
        "# Compile the model to configure the learning process.\n",
        "model.compile(\n",
        "    loss='categorical_crossentropy',  # Suitable loss for multi-class classification\n",
        "    optimizer='adam',  # Adam optimization algorithm to adjust weights to minimize the loss.\n",
        "    metrics=['accuracy']  # We want to track accuracy during the training.\n",
        ")\n"
      ],
      "metadata": {
        "id": "VvrH6Gcj-Iqc"
      },
      "execution_count": null,
      "outputs": []
    },
    {
      "cell_type": "code",
      "source": [
        "# Train the model using the train and validation datasets.\n",
        "history = model.fit(\n",
        "    train_generator,\n",
        "    epochs=25,  # The number of iterations over the entire dataset.\n",
        "    validation_data=val_generator  # Providing validation data to evaluate the model at the end of each epoch.\n",
        ")\n"
      ],
      "metadata": {
        "colab": {
          "base_uri": "https://localhost:8080/"
        },
        "id": "5JQTCwe4-Kj9",
        "outputId": "e9be2552-674f-44b3-fa88-e1a8165c7d7f"
      },
      "execution_count": null,
      "outputs": [
        {
          "output_type": "stream",
          "name": "stdout",
          "text": [
            "Epoch 1/25\n",
            "228/228 [==============================] - 73s 267ms/step - loss: 1.4335 - accuracy: 0.5280 - val_loss: 0.8710 - val_accuracy: 0.7039\n",
            "Epoch 2/25\n",
            "228/228 [==============================] - 61s 268ms/step - loss: 0.9376 - accuracy: 0.6686 - val_loss: 0.8032 - val_accuracy: 0.7103\n",
            "Epoch 3/25\n",
            "228/228 [==============================] - 58s 255ms/step - loss: 0.8258 - accuracy: 0.7073 - val_loss: 0.6679 - val_accuracy: 0.7581\n",
            "Epoch 4/25\n",
            "228/228 [==============================] - 60s 261ms/step - loss: 0.7694 - accuracy: 0.7271 - val_loss: 0.6613 - val_accuracy: 0.7574\n",
            "Epoch 5/25\n",
            "228/228 [==============================] - 58s 253ms/step - loss: 0.7167 - accuracy: 0.7435 - val_loss: 0.6099 - val_accuracy: 0.7723\n",
            "Epoch 6/25\n",
            "228/228 [==============================] - 59s 259ms/step - loss: 0.6963 - accuracy: 0.7529 - val_loss: 0.6584 - val_accuracy: 0.7723\n",
            "Epoch 7/25\n",
            "228/228 [==============================] - 58s 253ms/step - loss: 0.6847 - accuracy: 0.7586 - val_loss: 0.6260 - val_accuracy: 0.7794\n",
            "Epoch 8/25\n",
            "228/228 [==============================] - 60s 262ms/step - loss: 0.6625 - accuracy: 0.7672 - val_loss: 0.5872 - val_accuracy: 0.7787\n",
            "Epoch 9/25\n",
            "228/228 [==============================] - 58s 256ms/step - loss: 0.6378 - accuracy: 0.7709 - val_loss: 0.6217 - val_accuracy: 0.7658\n",
            "Epoch 10/25\n",
            "228/228 [==============================] - 60s 262ms/step - loss: 0.6110 - accuracy: 0.7783 - val_loss: 0.5708 - val_accuracy: 0.7929\n",
            "Epoch 11/25\n",
            "228/228 [==============================] - 65s 283ms/step - loss: 0.6091 - accuracy: 0.7798 - val_loss: 0.6158 - val_accuracy: 0.7826\n",
            "Epoch 12/25\n",
            "228/228 [==============================] - 58s 255ms/step - loss: 0.6044 - accuracy: 0.7827 - val_loss: 0.7238 - val_accuracy: 0.7574\n",
            "Epoch 13/25\n",
            "228/228 [==============================] - 59s 259ms/step - loss: 0.6001 - accuracy: 0.7840 - val_loss: 0.5777 - val_accuracy: 0.7865\n",
            "Epoch 14/25\n",
            "228/228 [==============================] - 59s 260ms/step - loss: 0.5746 - accuracy: 0.7928 - val_loss: 0.4969 - val_accuracy: 0.8142\n",
            "Epoch 15/25\n",
            "228/228 [==============================] - 58s 256ms/step - loss: 0.5617 - accuracy: 0.7962 - val_loss: 0.5745 - val_accuracy: 0.7800\n",
            "Epoch 16/25\n",
            "228/228 [==============================] - 59s 260ms/step - loss: 0.5566 - accuracy: 0.7970 - val_loss: 0.5238 - val_accuracy: 0.8155\n",
            "Epoch 17/25\n",
            "228/228 [==============================] - 59s 256ms/step - loss: 0.5463 - accuracy: 0.8027 - val_loss: 0.4915 - val_accuracy: 0.8135\n",
            "Epoch 18/25\n",
            "228/228 [==============================] - 61s 266ms/step - loss: 0.5109 - accuracy: 0.8141 - val_loss: 0.4866 - val_accuracy: 0.8219\n",
            "Epoch 19/25\n",
            "228/228 [==============================] - 58s 254ms/step - loss: 0.5524 - accuracy: 0.8002 - val_loss: 0.5188 - val_accuracy: 0.8077\n",
            "Epoch 20/25\n",
            "228/228 [==============================] - 59s 260ms/step - loss: 0.5232 - accuracy: 0.8091 - val_loss: 0.4771 - val_accuracy: 0.8323\n",
            "Epoch 21/25\n",
            "228/228 [==============================] - 58s 254ms/step - loss: 0.5193 - accuracy: 0.8112 - val_loss: 0.4782 - val_accuracy: 0.8161\n",
            "Epoch 22/25\n",
            "228/228 [==============================] - 60s 262ms/step - loss: 0.4988 - accuracy: 0.8156 - val_loss: 0.5481 - val_accuracy: 0.7994\n",
            "Epoch 23/25\n",
            "228/228 [==============================] - 58s 255ms/step - loss: 0.4903 - accuracy: 0.8197 - val_loss: 0.7114 - val_accuracy: 0.7594\n",
            "Epoch 24/25\n",
            "228/228 [==============================] - 62s 273ms/step - loss: 0.4896 - accuracy: 0.8179 - val_loss: 0.4998 - val_accuracy: 0.8168\n",
            "Epoch 25/25\n",
            "228/228 [==============================] - 58s 253ms/step - loss: 0.4887 - accuracy: 0.8221 - val_loss: 0.5376 - val_accuracy: 0.8148\n"
          ]
        }
      ]
    },
    {
      "cell_type": "code",
      "source": [
        "# Evaluate the model using the test dataset to check its performance.\n",
        "model.evaluate(test_generator)\n"
      ],
      "metadata": {
        "colab": {
          "base_uri": "https://localhost:8080/"
        },
        "id": "CHEX_z-mPMCi",
        "outputId": "a64c0864-70b2-4cf4-b36c-3897cb583649"
      },
      "execution_count": 19,
      "outputs": [
        {
          "output_type": "stream",
          "name": "stdout",
          "text": [
            "49/49 [==============================] - 6s 124ms/step - loss: 0.5679 - accuracy: 0.8130\n"
          ]
        },
        {
          "output_type": "execute_result",
          "data": {
            "text/plain": [
              "[0.5678828358650208, 0.8129820227622986]"
            ]
          },
          "metadata": {},
          "execution_count": 19
        }
      ]
    },
    {
      "cell_type": "code",
      "source": [
        "# Extracting the history of accuracy and loss during training to plot and visualize the training process.\n",
        "acc = history.history['accuracy']\n",
        "val_acc = history.history['val_accuracy']\n",
        "loss = history.history['loss']\n",
        "val_loss = history.history['val_loss']\n",
        "\n",
        "# Define the number of epochs\n",
        "epochs = range(len(acc))\n",
        "\n",
        "# Plot training and validation accuracy per epoch\n",
        "plt.plot(epochs, acc, 'bo', label='Training accuracy')\n",
        "plt.plot(epochs, val_acc, 'b', label='Validation accuracy')\n",
        "plt.title('Training and validation accuracy')\n",
        "plt.legend()\n",
        "\n",
        "# Plot training and validation loss per epoch\n",
        "plt.figure()\n",
        "plt.plot(epochs, loss, 'bo', label='Training Loss')\n",
        "plt.plot(epochs, val_loss, 'b', label='Validation Loss')\n",
        "plt.title('Training and validation loss')\n",
        "plt.legend()\n",
        "\n",
        "plt.show()\n"
      ],
      "metadata": {
        "colab": {
          "base_uri": "https://localhost:8080/",
          "height": 887
        },
        "id": "dOlNv1rpW4a-",
        "outputId": "c98c6a7a-fc32-4081-f46b-a95f04835bd7"
      },
      "execution_count": null,
      "outputs": [
        {
          "output_type": "display_data",
          "data": {
            "text/plain": [
              "<Figure size 640x480 with 1 Axes>"
            ],
            "image/png": "[encoded data removed]"
          },
          "metadata": {}
        },
        {
          "output_type": "display_data",
          "data": {
            "text/plain": [
              "<Figure size 640x480 with 1 Axes>"
            ],
            "image/png": "[encoded data removed]"
          },
          "metadata": {}
        }
      ]
    },
    {
      "cell_type": "code",
      "source": [
        "# Save the entire model to a HDF5 file.\n",
        "# The '.h5' extension indicates that the model should be saved to HDF5.\n",
        "model.save('/content/drive/My Drive/MyModels/my_model.h5')\n"
      ],
      "metadata": {
        "id": "dGQo498KW8qi"
      },
      "execution_count": null,
      "outputs": []
    },
    {
      "cell_type": "code",
      "source": [
        "from tensorflow.keras.models import load_model\n",
        "\n",
        "model = load_model('/content/drive/MyDrive/MyModels/my_model.h5')\n",
        "import cv2\n",
        "import numpy as np\n",
        "from tensorflow.keras.preprocessing import image\n",
        "\n",
        "# Load the image file, resizing it to 150x150 pixels (the input shape your model expects)\n",
        "img_path = '/content/drive/MyDrive/beige.png'  # replace with the path of your image\n",
        "img = image.load_img(img_path, target_size=(150, 150))\n",
        "\n",
        "# Convert the image to a numpy array, and add an extra dimension\n",
        "img_array = image.img_to_array(img)\n",
        "img_array = np.expand_dims(img_array, axis=0)\n",
        "\n",
        "# Scale the pixel values to [0, 1]\n",
        "img_array /= 255.\n",
        "\n",
        "# Use the model to make a prediction on the input image\n",
        "predictions = model.predict(img_array)\n",
        "\n",
        "# Decode the prediction into a readable result\n",
        "predicted_class_idx = np.argmax(predictions[0])\n",
        "mapping_dict = train_generator.class_indices  # assuming train_generator is in memory\n",
        "class_labels = list(mapping_dict.keys())\n",
        "predicted_class_label = class_labels[predicted_class_idx]\n",
        "\n",
        "print(f'The model predict s that the color of the car in the image is: {predicted_class_label}')\n"
      ],
      "metadata": {
        "colab": {
          "base_uri": "https://localhost:8080/"
        },
        "id": "LpnHCRh0YV-m",
        "outputId": "66a0a6f1-fd00-4dab-855f-3510ee0374e0"
      },
      "execution_count": 17,
      "outputs": [
        {
          "output_type": "stream",
          "name": "stdout",
          "text": [
            "1/1 [==============================] - 0s 72ms/step\n",
            "The model predict s that the color of the car in the image is: tan\n"
          ]
        }
      ]
    },
    {
      "cell_type": "code",
      "source": [
        "# Use the trained model to predict the class labels (car colors) for the test dataset.\n",
        "predictions = model.predict(test_generator)\n"
      ],
      "metadata": {
        "colab": {
          "base_uri": "https://localhost:8080/"
        },
        "id": "cJPEh0JxXWr7",
        "outputId": "60a215f9-3824-4b1a-9b9e-d5c4ee86a4fe"
      },
      "execution_count": 18,
      "outputs": [
        {
          "output_type": "stream",
          "name": "stdout",
          "text": [
            "49/49 [==============================] - 4s 78ms/step\n"
          ]
        }
      ]
    }
  ]
}